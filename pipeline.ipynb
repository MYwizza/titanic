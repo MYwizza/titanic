{
 "cells": [
  {
   "cell_type": "code",
   "execution_count": 1,
   "metadata": {
    "collapsed": true
   },
   "outputs": [],
   "source": [
    "#scikit-learn中有构建机器学习流水线的方法，这个流水线可以包括预处理、特征选择、监督学习、非监督学习等函数，\n",
    "#以便输入特征向量、选择最好的k个特征、用随机森林分类器进行分类\n",
    "#选择k个最好的特征，好处在于可以处理较小纬度的数据，可以减小计算的复杂度"
   ]
  },
  {
   "cell_type": "code",
   "execution_count": 15,
   "metadata": {},
   "outputs": [
    {
     "name": "stdout",
     "output_type": "stream",
     "text": [
      "0.98\n",
      "[ True False False False False  True False  True False  True  True  True\n",
      " False  True False  True  True False  True False]\n",
      "(array([ 0,  5,  7,  9, 10, 11, 13, 15, 16, 18], dtype=int64),)\n"
     ]
    }
   ],
   "source": [
    "from sklearn.datasets import samples_generator\n",
    "from sklearn.ensemble import RandomForestClassifier\n",
    "from sklearn.feature_selection import SelectKBest,f_regression\n",
    "from sklearn.pipeline import Pipeline\n",
    "import pandas as pd\n",
    "import numpy as np\n",
    "\n",
    "#生成样本数据,100*20\n",
    "x,y=samples_generator.make_classification(n_informative=4,n_features=20,n_redundant=0,random_state=5)\n",
    "\n",
    "#建立流水线第一步，特征选择，选出K个最好的特征\n",
    "selector_k_best=SelectKBest(f_regression,k=10)\n",
    "\n",
    "#流水线第二步，用随机森林分类器分类数据\n",
    "classifier=RandomForestClassifier(n_estimators=50,max_depth=4)\n",
    "#构建机器学习流水线,将特征选择器命名为selector，把随机森林分类器命名为rf\n",
    "pipeline_classifier=Pipeline([('selector',selector_k_best),('rf',classifier)])\n",
    "#可以更改参数\n",
    "#pipeline_classifier.set_params(selector_k=6,rf_n_estimators=25)\n",
    "\n",
    "#训练分类器\n",
    "pipeline_classifier.fit(x,y)\n",
    "#预测\n",
    "prediction=pipeline_classifier.predict(x)\n",
    "#打印分类器评分\n",
    "print(pipeline_classifier.score(x,y))\n",
    "\n",
    "#查看被分类器选中的特征\n",
    "feature_status=pipeline_classifier.named_steps['selector'].get_support()\n",
    "print(feature_status)\n",
    "feature_selected=np.where(feature_status==True)\n",
    "print(feature_selected)"
   ]
  }
 ],
 "metadata": {
  "kernelspec": {
   "display_name": "Python 3",
   "language": "python",
   "name": "python3"
  },
  "language_info": {
   "codemirror_mode": {
    "name": "ipython",
    "version": 3
   },
   "file_extension": ".py",
   "mimetype": "text/x-python",
   "name": "python",
   "nbconvert_exporter": "python",
   "pygments_lexer": "ipython3",
   "version": "3.6.3"
  }
 },
 "nbformat": 4,
 "nbformat_minor": 2
}
