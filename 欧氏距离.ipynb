{
 "cells": [
  {
   "cell_type": "code",
   "execution_count": 1,
   "metadata": {
    "collapsed": true
   },
   "outputs": [],
   "source": [
    "#为了构建一个推荐引擎，需要定义相似度指标，以便找到与数据库中特定用户相似的用户\n",
    "#欧氏距离分数，可以计算两个数据点之间的欧几里得距离"
   ]
  },
  {
   "cell_type": "code",
   "execution_count": 41,
   "metadata": {},
   "outputs": [
    {
     "name": "stdout",
     "output_type": "stream",
     "text": [
      "dict_keys(['Inception', 'Pulp Fiction', 'Fracture', 'Jerry Maguire'])\n",
      "Euclidean score:0.387\n",
      "dict_keys(['Inception', 'Pulp Fiction', 'Fracture', 'Jerry Maguire'])\n"
     ]
    },
    {
     "data": {
      "text/plain": [
       "0.38742588672279304"
      ]
     },
     "execution_count": 41,
     "metadata": {},
     "output_type": "execute_result"
    }
   ],
   "source": [
    "import json\n",
    "import numpy as np\n",
    "#计算use1和use2的欧氏距离分数\n",
    "def euclidean_score(dataset,user1,user2):\n",
    "    if user1 not in dataset:\n",
    "        raise TypeError('user'+user1+'not present in the dataset')\n",
    "    if user2 not in dataset:\n",
    "        raise TypeError('user'+user2+'not ptesent in the dataset')\n",
    "    #提取两个用户均评过分的电影\n",
    "    rated_by_both={}\n",
    "    squared_difference=[]\n",
    "    for item in dataset[user1]:\n",
    "        if item in dataset[user2]:\n",
    "            rated_by_both[item]=1\n",
    "            squared_difference.append(np.square(dataset[use1][item]-dataset[use2][item]))\n",
    "    print(rated_by_both.keys())\n",
    "    return 1/(1+np.sqrt(np.sum(squared_difference)))\n",
    "    \n",
    "    if len(rated_by_both)==0:\n",
    "        return 0\n",
    "\n",
    "data_file=r'F:\\程序员\\python\\Python机器学习经典实例\\Chapter05\\movie_ratings.json'\n",
    "\n",
    "with open(data_file) as f:\n",
    "    data=json.loads(f.read())\n",
    "\n",
    "\n",
    "user1='John Carson'\n",
    "user2='William Reynolds'\n",
    "\n",
    "print('Euclidean score:{:.3f}'.format(euclidean_score(data,user1,user2)))\n",
    "euclidean_score(data,user1,user2)"
   ]
  }
 ],
 "metadata": {
  "kernelspec": {
   "display_name": "Python 3",
   "language": "python",
   "name": "python3"
  },
  "language_info": {
   "codemirror_mode": {
    "name": "ipython",
    "version": 3
   },
   "file_extension": ".py",
   "mimetype": "text/x-python",
   "name": "python",
   "nbconvert_exporter": "python",
   "pygments_lexer": "ipython3",
   "version": "3.6.3"
  }
 },
 "nbformat": 4,
 "nbformat_minor": 2
}
