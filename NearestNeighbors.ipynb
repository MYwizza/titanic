{
 "cells": [
  {
   "cell_type": "code",
   "execution_count": 40,
   "metadata": {},
   "outputs": [
    {
     "name": "stdout",
     "output_type": "stream",
     "text": [
      "[[ 0.67082039  0.80622577  1.36014705]] [[2 4 7]]\n",
      "[ 2.  3.  3.]\n"
     ]
    },
    {
     "data": {
      "image/png": "[encoded data removed]",
      "text/plain": [
       "<matplotlib.figure.Figure at 0x1c9f776bf98>"
      ]
     },
     "metadata": {},
     "output_type": "display_data"
    }
   ],
   "source": [
    "#寻找最近邻，最近邻模型目的是根据训练数据集中的最近邻数量来做决策\n",
    "import numpy as np\n",
    "import matplotlib.pyplot as plt\n",
    "from sklearn.neighbors import NearestNeighbors\n",
    "\n",
    "x=np.array([[1, 1], [1, 3], [2, 2], [2.5, 5], [3, 1],\n",
    "[4, 2], [2, 3.5], [3, 3], [3.5, 4]])\n",
    "\n",
    "#寻找最近邻的数量\n",
    "num_neighbors=3\n",
    "input_point=np.array([[2.6,1.7]])\n",
    "\n",
    "#建立最近邻模型\n",
    "knn=NearestNeighbors(n_neighbors=num_neighbors,algorithm='ball_tree').fit(x)\n",
    "#计算输入点与最近邻之间的距离\n",
    "distance,indices=knn.kneighbors(input_point)\n",
    "print(distance,indices)\n",
    "print(x[indices][0][:][:,0])\n",
    "\n",
    "#数据点可视化\n",
    "plt.figure()\n",
    "plt.scatter(x[:,0],x[:,1],marker='o',color='black',s=20)\n",
    "plt.scatter(x[indices][0][:][:,0],x[indices][0][:][:,1],marker='o',s=150,color='black',facecolors='none')\n",
    "plt.scatter(input_point[0][0],input_point[0][1],marker='v',s=150,color='k',facecolors='none')\n",
    "plt.show()"
   ]
  }
 ],
 "metadata": {
  "kernelspec": {
   "display_name": "Python 3",
   "language": "python",
   "name": "python3"
  },
  "language_info": {
   "codemirror_mode": {
    "name": "ipython",
    "version": 3
   },
   "file_extension": ".py",
   "mimetype": "text/x-python",
   "name": "python",
   "nbconvert_exporter": "python",
   "pygments_lexer": "ipython3",
   "version": "3.6.3"
  }
 },
 "nbformat": 4,
 "nbformat_minor": 2
}
