{
 "cells": [
  {
   "cell_type": "code",
   "execution_count": 1,
   "metadata": {
    "collapsed": true
   },
   "outputs": [],
   "source": [
    "#欧氏距离可以作为衡量两个用户相似度的指标，但它也有一些缺点，因此皮尔逊相关系数常用于推荐引擎"
   ]
  },
  {
   "cell_type": "code",
   "execution_count": 7,
   "metadata": {},
   "outputs": [
    {
     "name": "stdout",
     "output_type": "stream",
     "text": [
      "{'John Carson': {'Inception': 2.5, 'Pulp Fiction': 3.5, 'Anger Management': 3.0, 'Fracture': 3.5, 'Serendipity': 2.5, 'Jerry Maguire': 3.0}, 'Michelle Peterson': {'Inception': 3.0, 'Pulp Fiction': 3.5, 'Anger Management': 1.5, 'Fracture': 5.0, 'Jerry Maguire': 3.0, 'Serendipity': 3.5}, 'William Reynolds': {'Inception': 2.5, 'Pulp Fiction': 3.0, 'Fracture': 3.5, 'Jerry Maguire': 4.0}, 'Jillian Hobart': {'Pulp Fiction': 3.5, 'Anger Management': 3.0, 'Jerry Maguire': 4.5, 'Fracture': 4.0, 'Serendipity': 2.5}, 'Melissa Jones': {'Inception': 3.0, 'Pulp Fiction': 4.0, 'Anger Management': 2.0, 'Fracture': 3.0, 'Jerry Maguire': 3.0, 'Serendipity': 2.0}, 'Alex Roberts': {'Inception': 3.0, 'Pulp Fiction': 4.0, 'Jerry Maguire': 3.0, 'Fracture': 5.0, 'Serendipity': 3.5}, 'Michael Henry': {'Pulp Fiction': 4.5, 'Serendipity': 1.0, 'Fracture': 4.0}}\n",
      "pearson_score:0.396\n"
     ]
    }
   ],
   "source": [
    "import json\n",
    "import numpy as np\n",
    "\n",
    "#定义计算user1和use2的皮尔逊相关系数\n",
    "def pearson_score(dataset,use1,user2):\n",
    "    if user1 not in dataset:\n",
    "        raise TypeError('user'+user1+'not present in the dataset')\n",
    "    if user2 not in dataset:\n",
    "        raise TypeError('user'+user2+'not present in the dataset')\n",
    "    \n",
    "    rated_by_both={}\n",
    "    \n",
    "    for item in dataset[user1]:\n",
    "        if item in dataset[user2]:\n",
    "            rated_by_both[item]=1\n",
    "    if len(rated_by_both)==0:\n",
    "        return 0\n",
    "    \n",
    "    user1_sum=np.sum([dataset[user1][item] for item in rated_by_both.keys()])\n",
    "    user2_sum=np.sum([dataset[user2][item] for item in rated_by_both.keys()])\n",
    "    \n",
    "    user1_squared_sum=np.sum([np.square(dataset[user1][item]) for item in rated_by_both.keys()])\n",
    "    user2_squared_sum=np.sum([np.square(dataset[user2][item]) for item in rated_by_both.keys()])\n",
    "    \n",
    "    product_sum=np.sum(dataset[user1][item]*dataset[user2][item] for item in rated_by_both.keys())\n",
    "    \n",
    "    num_ratings=len(rated_by_both)\n",
    "    \n",
    "    sxy=product_sum-user1_sum*user2_sum/num_ratings\n",
    "    sxx=user1_squared_sum-np.square(user1_sum)/num_ratings\n",
    "    syy=user2_squared_sum-np.square(user2_sum)/num_ratings\n",
    "    if sxx*syy==0:\n",
    "        return 0\n",
    "    return sxy/np.sqrt(sxx*syy)\n",
    "\n",
    "    #计算皮尔逊相关系数\n",
    "    \n",
    "            \n",
    "            \n",
    "data_file=r'F:\\程序员\\python\\Python机器学习经典实例\\Chapter05\\movie_ratings.json'\n",
    "\n",
    "with open(data_file) as f:\n",
    "    data=json.loads(f.read())\n",
    "print(data)\n",
    "\n",
    "user1='John Carson'\n",
    "user2='Michelle Peterson'\n",
    "\n",
    "print('pearson_score:{:.3f}'.format(pearson_score(data,user1,user2)))\n",
    "            "
   ]
  }
 ],
 "metadata": {
  "kernelspec": {
   "display_name": "Python 3",
   "language": "python",
   "name": "python3"
  },
  "language_info": {
   "codemirror_mode": {
    "name": "ipython",
    "version": 3
   },
   "file_extension": ".py",
   "mimetype": "text/x-python",
   "name": "python",
   "nbconvert_exporter": "python",
   "pygments_lexer": "ipython3",
   "version": "3.6.3"
  }
 },
 "nbformat": 4,
 "nbformat_minor": 2
}
