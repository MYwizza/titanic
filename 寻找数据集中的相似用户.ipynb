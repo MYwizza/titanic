{
 "cells": [
  {
   "cell_type": "code",
   "execution_count": 1,
   "metadata": {
    "collapsed": true
   },
   "outputs": [],
   "source": [
    "#构建推荐引擎中一个非常重要的任务是寻找相似的用户，为某位用户生成的推荐信息可以同时推荐给与其相似的用户"
   ]
  },
  {
   "cell_type": "code",
   "execution_count": 47,
   "metadata": {},
   "outputs": [
    {
     "name": "stdout",
     "output_type": "stream",
     "text": [
      "users similar toJohn Carson:\n",
      "\n",
      "Michael Henry : 0.991240707162\n",
      "Alex Roberts : 0.747017880834\n",
      "Melissa Jones : 0.594088525786\n"
     ]
    },
    {
     "data": {
      "text/plain": [
       "[('Michael Henry', 0.99124070716192991),\n",
       " ('Alex Roberts', 0.74701788083399645),\n",
       " ('Melissa Jones', 0.59408852578600435)]"
      ]
     },
     "execution_count": 47,
     "metadata": {},
     "output_type": "execute_result"
    }
   ],
   "source": [
    "import json\n",
    "import numpy as np\n",
    "\n",
    "#定义计算user1和use2的皮尔逊相关系数\n",
    "def pearson_score(dataset,user1,user2):\n",
    "    if user1 not in dataset:\n",
    "        raise TypeError('user'+user1+'not present in the dataset')\n",
    "    if user2 not in dataset:\n",
    "        raise TypeError('user'+user2+'not present in the dataset')\n",
    "    \n",
    "    rated_by_both={}\n",
    "    \n",
    "    for item in dataset[user1]:\n",
    "        if item in dataset[user2]:\n",
    "            rated_by_both[item]=1\n",
    "    if len(rated_by_both)==0:\n",
    "        return 0\n",
    "    \n",
    "    user1_sum=np.sum([dataset[user1][item] for item in rated_by_both.keys()])\n",
    "    user2_sum=np.sum([dataset[user2][item] for item in rated_by_both.keys()])\n",
    "    \n",
    "    user1_squared_sum=np.sum([np.square(dataset[user1][item]) for item in rated_by_both.keys()])\n",
    "    user2_squared_sum=np.sum([np.square(dataset[user2][item]) for item in rated_by_both.keys()])\n",
    "    \n",
    "    product_sum=np.sum(dataset[user1][item]*dataset[user2][item] for item in rated_by_both.keys())\n",
    "    \n",
    "    num_ratings=len(rated_by_both)\n",
    "    \n",
    "    sxy=product_sum-user1_sum*user2_sum/num_ratings\n",
    "    sxx=user1_squared_sum-np.square(user1_sum)/num_ratings\n",
    "    syy=user2_squared_sum-np.square(user2_sum)/num_ratings\n",
    "    if sxx*syy==0:\n",
    "        return 0\n",
    "    return sxy/np.sqrt(sxx*syy)\n",
    "#寻找特定数量的与输入用户相似的用户\n",
    "def find_similar_users(dataset,user,num_users):\n",
    "    if user not in dataset:\n",
    "        raise TypeError('User'+user+'not present in the dataset')\n",
    "    scores=dict([[x,pearson_score(data,user,x)] for x in dataset if x!=user])\n",
    "    \n",
    "    scores=sorted(scores.items(),key=lambda x:x[1],reverse=True)\n",
    "    \n",
    "    top_k=scores[0:num_users]\n",
    "\n",
    "    \n",
    "    return top_k\n",
    "\n",
    "data_file=r'F:\\程序员\\python\\Python机器学习经典实例\\Chapter05\\movie_ratings.json'\n",
    "\n",
    "with open(data_file) as f:\n",
    "    data=json.loads(f.read())\n",
    "    \n",
    "\n",
    "user='John Carson'\n",
    "print('users similar to'+user+':\\n')\n",
    "similar_users=find_similar_users(data,user,3)\n",
    "for i in  similar_users:\n",
    "    print(i[0],':',i[1])\n",
    "similar_users\n",
    "    "
   ]
  }
 ],
 "metadata": {
  "kernelspec": {
   "display_name": "Python 3",
   "language": "python",
   "name": "python3"
  },
  "language_info": {
   "codemirror_mode": {
    "name": "ipython",
    "version": 3
   },
   "file_extension": ".py",
   "mimetype": "text/x-python",
   "name": "python",
   "nbconvert_exporter": "python",
   "pygments_lexer": "ipython3",
   "version": "3.6.3"
  }
 },
 "nbformat": 4,
 "nbformat_minor": 2
}
