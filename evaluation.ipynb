{
 "cells": [
  {
   "cell_type": "code",
   "execution_count": 1,
   "metadata": {
    "collapsed": true
   },
   "outputs": [],
   "source": [
    "#对于聚类的算法，度量聚类的效果，监督学习中，可以用预测值与原始值进行比较计算模型的准确性\n",
    "#在无监督学习中，数据没有标记，需要拟定一个指标来衡量，可采用轮廓系数得分的指标。\n",
    "#得分=(x-y)/max(x,y)\n",
    "#x：表示同一个集群中某个数据点与其他数据点的平均距离\n",
    "#y：表示某个数据点与最近的另一个集群的所有点的平均距离\n",
    "#评价函数使用sklearn下的metrics。方法：metrics.silhouette_score()"
   ]
  },
  {
   "cell_type": "code",
   "execution_count": 51,
   "metadata": {},
   "outputs": [
    {
     "data": {
      "image/png": "[encoded data removed]",
      "text/plain": [
       "<matplotlib.figure.Figure at 0x27bcde1c550>"
      ]
     },
     "metadata": {},
     "output_type": "display_data"
    },
    {
     "name": "stdout",
     "output_type": "stream",
     "text": [
      "n_clusters=2,score=0.53\n",
      "n_clusters=3,score=0.56\n",
      "n_clusters=4,score=0.58\n",
      "n_clusters=5,score=0.66\n",
      "n_clusters=6,score=0.60\n",
      "n_clusters=7,score=0.53\n",
      "n_clusters=8,score=0.45\n",
      "n_clusters=9,score=0.39\n"
     ]
    },
    {
     "data": {
      "image/png": "[encoded data removed]",
      "text/plain": [
       "<matplotlib.figure.Figure at 0x27bcd677128>"
      ]
     },
     "metadata": {},
     "output_type": "display_data"
    }
   ],
   "source": [
    "import numpy as np\n",
    "import pandas as pd\n",
    "import matplotlib.pyplot as plt\n",
    "from sklearn import metrics\n",
    "from sklearn.cluster import KMeans\n",
    "\n",
    "with open(r'F:\\程序员\\python\\Python机器学习经典实例\\Chapter04\\data_perf.txt') as f:\n",
    "    data=[line.strip().split(',') for line in f.readlines()]\n",
    "data=pd.DataFrame(data,dtype='float')\n",
    "\n",
    "plt.show()\n",
    "#集群训练\n",
    "#确定集群的最佳数量\n",
    "scores=[]\n",
    "range_values=np.arange(2,10)\n",
    "\n",
    "for i in range_values:\n",
    "    kmeans=KMeans(n_clusters=i,init='k-means++',n_init=10)\n",
    "    kmeans.fit(data)\n",
    "    score=metrics.silhouette_score(data,kmeans.labels_,metric='euclidean',sample_size=len(data))\n",
    "    scores.append(score)\n",
    "    print('n_clusters=%s,score=%.2f'%(i,score))\n",
    "\n",
    "plt.figure()\n",
    "plt.bar(range_values,scores)\n",
    "plt.show()"
   ]
  },
  {
   "cell_type": "code",
   "execution_count": 33,
   "metadata": {},
   "outputs": [
    {
     "name": "stdout",
     "output_type": "stream",
     "text": [
      "[0 4 1 3 2 0 4 1 3 2 0 4 1 3 2 0 4 1 3 2 0 4 1 3 2 0 4 1 3 2 0 4 1 3 2 0 4\n",
      " 1 3 2 0 4 1 3 2 0 4 1 3 2 0 4 1 3 2 0 4 1 3 2 0 0 1 3 2 0 4 1 3 2 0 4 1 3\n",
      " 2 0 4 1 3 2 0 4 1 3 2 0 4 1 3 2 0 4 1 3 2 0 4 1 3 2 0 4 1 3 2 0 4 1 3 2 0\n",
      " 4 1 3 2 0 4 1 3 2 0 4 1 3 2 0 4 1 3 2 0 4 1 3 2 0 4 1 3 2 0 4 1 3 2 0 4 1\n",
      " 3 2 0 4 1 3 2 0 4 1 3 2 0 4 1 3 2 0 4 1 3 2 0 4 1 3 2 0 4 1 3 2 0 4 1 3 2\n",
      " 0 4 1 3 2 0 4 1 3 2 0 4 1 3 2 0 4 1 3 2 0 4 1 3 2 0 4 1 3 2 0 4 1 3 2 0 4\n",
      " 1 3 2 0 4 1 3 2 0 4 1 3 2 0 4 1 3 2 0 4 1 3 2 0 4 1 3 2]\n",
      "[[ 1.96431373  2.10764706]\n",
      " [ 5.9726      1.9164    ]\n",
      " [ 0.03        3.9114    ]\n",
      " [ 7.043       5.4934    ]\n",
      " [ 3.06265306  5.07081633]]\n"
     ]
    },
    {
     "data": {
      "image/png": "[encoded data removed]",
      "text/plain": [
       "<matplotlib.figure.Figure at 0x27bce250c88>"
      ]
     },
     "metadata": {},
     "output_type": "display_data"
    }
   ],
   "source": [
    "#集群训练\n",
    "kmeans=KMeans(n_clusters=5)\n",
    "kmeans.fit(data)\n",
    "kmeans_labels=kmeans.labels_\n",
    "centers=kmeans.cluster_centers_\n",
    "print(kmeans_labels)\n",
    "print(kmeans.cluster_centers_)\n",
    "plt.scatter(centers[:,0],centers[:,1],marker='o',color='k')\n",
    "plt.show()"
   ]
  }
 ],
 "metadata": {
  "kernelspec": {
   "display_name": "Python 3",
   "language": "python",
   "name": "python3"
  },
  "language_info": {
   "codemirror_mode": {
    "name": "ipython",
    "version": 3
   },
   "file_extension": ".py",
   "mimetype": "text/x-python",
   "name": "python",
   "nbconvert_exporter": "python",
   "pygments_lexer": "ipython3",
   "version": "3.6.3"
  }
 },
 "nbformat": 4,
 "nbformat_minor": 2
}
