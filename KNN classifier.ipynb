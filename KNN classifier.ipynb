{
 "cells": [
  {
   "cell_type": "code",
   "execution_count": 1,
   "metadata": {
    "collapsed": true
   },
   "outputs": [],
   "source": [
    "#knn k-nearest neighbors是用k个最近邻的训练数据集来寻找未知对象分类的一种算法\n",
    "#knn分类器存储了所有可用的数据点，并根据相似度指标来对新的数据点进行分类，这个相似度指标通常以\n",
    "#距离函数的形式度量.\n",
    "#一旦找出KNN，就会做一个多数表决，一个新数据点通过KNN的多数表决来进行分类，这个数据点会被分到\n",
    "#KNN最常见的类中，如果K的值设置为1，那么这就变成了一个最近邻分类器，在该分类器中，将数据点分类到\n",
    "#训练数据集中其最近邻所属的哪一类"
   ]
  },
  {
   "cell_type": "code",
   "execution_count": 54,
   "metadata": {},
   "outputs": [
    {
     "name": "stdout",
     "output_type": "stream",
     "text": [
      "     d1    d2  result\n",
      "0  1.82  2.04     0.0\n",
      "1  3.31  6.78     1.0\n",
      "2  6.33  2.55     2.0\n",
      "3  2.05  2.47     0.0\n",
      "4  4.30  5.25     1.0\n"
     ]
    },
    {
     "data": {
      "image/png": "[encoded data removed]",
      "text/plain": [
       "<matplotlib.figure.Figure at 0x1f8cc4bfc88>"
      ]
     },
     "metadata": {},
     "output_type": "display_data"
    },
    {
     "name": "stdout",
     "output_type": "stream",
     "text": [
      "[2]\n"
     ]
    }
   ],
   "source": [
    "import numpy as np\n",
    "import matplotlib.pyplot as plt\n",
    "import matplotlib.cm as cm\n",
    "from sklearn import neighbors,datasets\n",
    "import pandas as pd\n",
    "\n",
    "input_file=r'F:\\程序员\\python\\Python机器学习经典实例\\Chapter05\\data_nn_classifier.txt'\n",
    "f=open(input_file,'r')\n",
    "\n",
    "data=pd.read_csv(f,dtype='float',header=None)\n",
    "data.columns=['d1','d2','result']\n",
    "print(data.head())\n",
    "\n",
    "#设置最近邻的个数\n",
    "num_neighbors=10\n",
    "#定义网格，用网格的数据评价分类器\n",
    "h=0.01\n",
    "x_min,x_max=min(data['d1'])-1,max(data['d1'])+1\n",
    "y_min,y_max=min(data['d2'])-1,max(data['d2'])+1\n",
    "x_grid,y_grid=np.meshgrid(np.arange(x_min,x_max,h),np.arange(y_min,y_max,h))\n",
    "\n",
    "#创建KNN分类器模型\n",
    "classifier=neighbors.KNeighborsClassifier(num_neighbors,weights='distance')\n",
    "classifier.fit(data[['d1','d2']],data['result'].astype(int))\n",
    "\n",
    "#预测网格的数据\n",
    "predicted_values=classifier.predict(np.c_[x_grid.ravel(),y_grid.ravel()])\n",
    "predicted_values=predicted_values.reshape(x_grid.shape)\n",
    "\n",
    "#测试数据点\n",
    "test_point=[4.5,3.6]\n",
    "dist,indices=classifier.kneighbors([test_point])\n",
    "indices=indices[0]\n",
    "#可视化网格数据预测结果\n",
    "plt.figure(1)\n",
    "plt.pcolormesh(x_grid,y_grid,predicted_values,cmap=cm.Pastel1)\n",
    "\n",
    "#输入数据可视化\n",
    "for i in data['result'].astype(int).unique():\n",
    "    \n",
    "    plt.scatter(data['d1'].loc[data['result']==i],data['d2'].loc[data['result']==i],\n",
    "               marker=markers[i],s=50)\n",
    "plt.scatter(test_point[0],test_point[1],marker='x',linewidth=3,s=200,facecolors='k')\n",
    "plt.scatter(data['d1'].iloc[indices],data['d2'].iloc[indices],marker='o',s=100,color='k')\n",
    "plt.show()\n",
    "\n",
    "predicted_poit=classifier.predict([test_point])\n",
    "print(predicted_poit)"
   ]
  }
 ],
 "metadata": {
  "kernelspec": {
   "display_name": "Python 3",
   "language": "python",
   "name": "python3"
  },
  "language_info": {
   "codemirror_mode": {
    "name": "ipython",
    "version": 3
   },
   "file_extension": ".py",
   "mimetype": "text/x-python",
   "name": "python",
   "nbconvert_exporter": "python",
   "pygments_lexer": "ipython3",
   "version": "3.6.3"
  }
 },
 "nbformat": 4,
 "nbformat_minor": 2
}
